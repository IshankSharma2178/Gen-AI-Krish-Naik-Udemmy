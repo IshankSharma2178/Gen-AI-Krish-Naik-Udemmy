{
 "cells": [
  {
   "cell_type": "markdown",
   "id": "456c80e4",
   "metadata": {},
   "source": [
    "## Embedding techniques\n",
    "\n",
    "### Converting text into vectirs"
   ]
  },
  {
   "cell_type": "code",
   "execution_count": null,
   "id": "9ecfed45",
   "metadata": {},
   "outputs": [],
   "source": [
    "import os \n",
    "from dotenv import load_dotenv\n",
    "load_dotenv()           # Load all the env variables"
   ]
  },
  {
   "cell_type": "code",
   "execution_count": null,
   "id": "673304ab",
   "metadata": {},
   "outputs": [],
   "source": [
    "import getpass\n",
    "import os\n",
    "\n",
    "if not os.getenv(\"DEEPSEEK_API_KEY\"):\n",
    "    os.environ[\"DEEPSEEK_API_KEY\"] = getpass.getpass(\"Enter your DeepSeek API key: \")\n",
    "\n",
    "os.environ[\"DEEPSEEK_API_KEY\"] = os.getenv(\"DEEPSEEK_API_KEY\")"
   ]
  },
  {
   "cell_type": "markdown",
   "id": "838fae27",
   "metadata": {},
   "source": [
    "## Using Ollama"
   ]
  },
  {
   "cell_type": "code",
   "execution_count": null,
   "id": "c39e6aa9",
   "metadata": {},
   "outputs": [],
   "source": [
    "from langchain_ollama import OllamaEmbeddings"
   ]
  },
  {
   "cell_type": "code",
   "execution_count": null,
   "id": "dfd0ecae",
   "metadata": {},
   "outputs": [],
   "source": [
    "embeddings = OllamaEmbeddings(model=\"nomic-embed-text\")\n",
    "embeddings"
   ]
  },
  {
   "cell_type": "code",
   "execution_count": null,
   "id": "75fb8083",
   "metadata": {},
   "outputs": [],
   "source": [
    "r1 = embeddings.embed_documents(\n",
    "    [\n",
    "        \"Alpha is the first letter of greek alphabet\",\n",
    "        \"Beta is second letter of greek alphabet\"\n",
    "    ]\n",
    ")\n",
    "r1\n",
    "r1[0]\n"
   ]
  },
  {
   "cell_type": "code",
   "execution_count": null,
   "id": "230ac2df",
   "metadata": {},
   "outputs": [],
   "source": [
    "len(r1[0])  # shows dimesnsion"
   ]
  },
  {
   "cell_type": "code",
   "execution_count": null,
   "id": "3a3ff174",
   "metadata": {},
   "outputs": [],
   "source": [
    "len(r1)"
   ]
  },
  {
   "cell_type": "markdown",
   "id": "a96aa307",
   "metadata": {},
   "source": [
    "## Using Hugging Face"
   ]
  },
  {
   "cell_type": "code",
   "execution_count": null,
   "id": "cb8b1041",
   "metadata": {},
   "outputs": [],
   "source": [
    "os.environ[\"HF_TOKEN\"] = os.getenv(\"HF_TOKEN\")"
   ]
  },
  {
   "cell_type": "code",
   "execution_count": null,
   "id": "1356713a",
   "metadata": {},
   "outputs": [],
   "source": [
    "import os\n",
    "import getpass\n",
    "\n",
    "# Ask for Hugging Face token if it's not set\n",
    "if not os.getenv(\"HF_TOKEN\"):\n",
    "    os.environ[\"HF_TOKEN\"] = getpass.getpass(\"Enter your Hugging Face token: \")\n"
   ]
  },
  {
   "cell_type": "markdown",
   "id": "a67c87b4",
   "metadata": {},
   "source": [
    "### Sentence Transformers on Hugging Face"
   ]
  },
  {
   "cell_type": "code",
   "execution_count": null,
   "id": "97eac3ec",
   "metadata": {},
   "outputs": [],
   "source": [
    "from langchain_huggingface import HuggingFaceEmbeddings\n",
    "\n",
    "embeddings = HuggingFaceEmbeddings(model_name = \"sentence-transformers/all-MiniLM-L6-v2\")"
   ]
  },
  {
   "cell_type": "code",
   "execution_count": null,
   "id": "69615c34",
   "metadata": {},
   "outputs": [],
   "source": [
    "text = \"this is a test documents\"\n",
    "\n",
    "query_result = embeddings.embed_query(text)\n",
    "query_result"
   ]
  },
  {
   "cell_type": "code",
   "execution_count": null,
   "id": "df4d7caf",
   "metadata": {},
   "outputs": [],
   "source": []
  },
  {
   "cell_type": "code",
   "execution_count": null,
   "id": "984d46ea",
   "metadata": {},
   "outputs": [],
   "source": []
  },
  {
   "cell_type": "markdown",
   "id": "5553877c",
   "metadata": {},
   "source": []
  }
 ],
 "metadata": {
  "kernelspec": {
   "display_name": "Python 3",
   "language": "python",
   "name": "python3"
  },
  "language_info": {
   "codemirror_mode": {
    "name": "ipython",
    "version": 3
   },
   "file_extension": ".py",
   "mimetype": "text/x-python",
   "name": "python",
   "nbconvert_exporter": "python",
   "pygments_lexer": "ipython3",
   "version": "3.12.5"
  }
 },
 "nbformat": 4,
 "nbformat_minor": 5
}
