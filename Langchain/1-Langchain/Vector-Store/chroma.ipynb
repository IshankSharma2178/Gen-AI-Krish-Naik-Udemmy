{
 "cells": [
  {
   "cell_type": "markdown",
   "id": "a6e8a360",
   "metadata": {},
   "source": [
    "### Chroma\n",
    "Chroma is a A1-native open-source vector database focused on developer productivity and happiness. Chroma\n",
    "is licensed under Apache 2.0."
   ]
  },
  {
   "cell_type": "code",
   "execution_count": null,
   "id": "b7017174",
   "metadata": {},
   "outputs": [],
   "source": [
    "# Building sample vector db\n",
    "from langchain_chroma import Chroma\n",
    "from langchain_community.document_loaders import TextLoader\n",
    "from langchain_text_splitters import RecursiveCharacterTextSplitter\n",
    "from langchain_ollama import OllamaEmbeddings\n"
   ]
  },
  {
   "cell_type": "code",
   "execution_count": null,
   "id": "ef004d96",
   "metadata": {},
   "outputs": [],
   "source": [
    "loader = TextLoader(\"../Data-Ingestion/speech.txt\")\n",
    "data = loader.load()\n",
    "data\n"
   ]
  },
  {
   "cell_type": "code",
   "execution_count": null,
   "id": "a227456f",
   "metadata": {},
   "outputs": [],
   "source": [
    "text_splitter = RecursiveCharacterTextSplitter(chunk_size=100,chunk_overlap=20)\n",
    "splits = text_splitter.split_documents(data)"
   ]
  },
  {
   "cell_type": "code",
   "execution_count": null,
   "id": "06d1d3c2",
   "metadata": {},
   "outputs": [],
   "source": [
    "embeddings = OllamaEmbeddings(model=\"nomic-embed-text\")\n",
    "vector_db = Chroma.from_documents(splits,embedding=embeddings)\n",
    "vector_db"
   ]
  },
  {
   "cell_type": "code",
   "execution_count": null,
   "id": "49f6991a",
   "metadata": {},
   "outputs": [],
   "source": [
    "# Query it\n",
    "query = \"What spoken language combines?\"\n",
    "docs = vector_db.similarity_search(query)\n",
    "docs[0].page_content"
   ]
  },
  {
   "cell_type": "code",
   "execution_count": null,
   "id": "4771e957",
   "metadata": {},
   "outputs": [],
   "source": [
    "## Saving to local\n",
    "vectordb = Chroma.from_documents(documents=splits,embedding=embeddings,persist_directory=\"./chroma_db\")"
   ]
  },
  {
   "cell_type": "code",
   "execution_count": null,
   "id": "763c3207",
   "metadata": {},
   "outputs": [],
   "source": [
    "# Loading from local\n",
    "db2 = Chroma(persist_directory=\"./chroma_db/\",embedding_function=embeddings)\n",
    "docs = db2.similarity_search(query)\n",
    "print(docs[0].page_content)"
   ]
  },
  {
   "cell_type": "code",
   "execution_count": null,
   "id": "10b96eaf",
   "metadata": {},
   "outputs": [],
   "source": [
    "docs = vector_db.similarity_search_with_score(query)\n",
    "docs"
   ]
  },
  {
   "cell_type": "code",
   "execution_count": null,
   "id": "7f3d2523",
   "metadata": {},
   "outputs": [],
   "source": [
    "# Retriever option\n",
    "\n",
    "retriever = vectordb.as_retriever()\n",
    "retriever.invoke(query)[0].page_content\n"
   ]
  }
 ],
 "metadata": {
  "kernelspec": {
   "display_name": "Python 3",
   "language": "python",
   "name": "python3"
  },
  "language_info": {
   "codemirror_mode": {
    "name": "ipython",
    "version": 3
   },
   "file_extension": ".py",
   "mimetype": "text/x-python",
   "name": "python",
   "nbconvert_exporter": "python",
   "pygments_lexer": "ipython3",
   "version": "3.10.18"
  }
 },
 "nbformat": 4,
 "nbformat_minor": 5
}
