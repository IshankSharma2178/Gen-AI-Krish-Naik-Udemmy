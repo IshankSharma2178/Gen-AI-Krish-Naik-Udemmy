{
 "cells": [
  {
   "cell_type": "markdown",
   "id": "2fc87312",
   "metadata": {},
   "source": [
    "## How to recursively split text by characters"
   ]
  },
  {
   "cell_type": "markdown",
   "id": "acbf71a9",
   "metadata": {},
   "source": [
    "## Recusive-Text-Splitter"
   ]
  },
  {
   "cell_type": "code",
   "execution_count": null,
   "id": "992f5f1c",
   "metadata": {},
   "outputs": [],
   "source": [
    "# Reading a pdf file\n",
    "from langchain_community.document_loaders import PyPDFLoader\n",
    "loader = PyPDFLoader(\"../Data-Ingestion/_media_assignments_files_2025_07_CarPricePrediction_1.pdf\")\n",
    "\n",
    "pdf_document = loader.load()\n",
    "\n",
    "print(pdf_document)\n",
    "\n",
    "print(type(pdf_document[0]))       #return typeis list of docs\n",
    "\n"
   ]
  },
  {
   "cell_type": "code",
   "execution_count": null,
   "id": "4d3d57f8",
   "metadata": {},
   "outputs": [],
   "source": [
    "from langchain_text_splitters import RecursiveCharacterTextSplitter\n",
    "\n",
    "text_splitter  = RecursiveCharacterTextSplitter(chunk_size = 500, chunk_overlap = 50)\n",
    "final_document = text_splitter.split_documents(pdf_document)                      # we use split_document becoz pdf_dco is list of doc alreaady\n",
    "final_document\n",
    "final_document[0]"
   ]
  },
  {
   "cell_type": "code",
   "execution_count": null,
   "metadata": {},
   "outputs": [],
   "source": [
    "from langchain_community.document_loaders import TextLoader\n",
    "data = TextLoader(\"../Data-Ingestion/speech.txt\")\n",
    "text_document = data.load()\n",
    "\n",
    "text_document"
   ]
  },
  {
   "cell_type": "code",
   "execution_count": null,
   "metadata": {},
   "outputs": [],
   "source": [
    "from langchain_text_splitters import RecursiveCharacterTextSplitter\n",
    "\n",
    "# text_splitter = RecursiveCharacterTextSplitter(chunk_size = 50, chunk_overlap = 20)\n",
    "# text = text_splitter.split_documents(text_document)\n",
    "# text"
   ]
  },
  {
   "cell_type": "code",
   "execution_count": null,
   "id": "89e5b9e3",
   "metadata": {},
   "outputs": [],
   "source": [
    "from langchain_text_splitters import RecursiveCharacterTextSplitter\n",
    "\n",
    "speech = \"\"\n",
    "with open(\"../Data-Ingestion/speech.txt\") as f:\n",
    "    speech = f.read()\n",
    "\n",
    "text_splitter = RecursiveCharacterTextSplitter(chunk_size=50,chunk_overlap=20)\n",
    "text = text_splitter.create_documents([speech])\n",
    "print(text)\n",
    "print(text[0])\n"
   ]
  },
  {
   "cell_type": "markdown",
   "id": "4c21213b",
   "metadata": {},
   "source": [
    "## Character-Text-splitter"
   ]
  },
  {
   "cell_type": "code",
   "execution_count": null,
   "id": "e05cd50d",
   "metadata": {},
   "outputs": [],
   "source": [
    "from langchain_text_splitters import CharacterTextSplitter\n",
    "\n",
    "text_splitter = CharacterTextSplitter(separator=\"\\n\\n\",chunk_size=100,chunk_overlap=20)\n",
    "text_splitter.split_documents(pdf_document)"
   ]
  },
  {
   "cell_type": "markdown",
   "id": "1cc8e7f8",
   "metadata": {},
   "source": [
    "## Html-header-text-splitter"
   ]
  },
  {
   "cell_type": "code",
   "execution_count": null,
   "metadata": {},
   "outputs": [],
   "source": [
    "from langchain_text_splitters import HTMLHeaderTextSplitter\n",
    "\n",
    "html_string = \"\"\"\n",
    "<!DOCTYPE html>\n",
    "<html>\n",
    "<head>\n",
    "    <title>My First Webpage</title>\n",
    "</head>\n",
    "<body>\n",
    "    <h1>Introduction</h1>\n",
    "    <p>This is a simple HTML page.</p>\n",
    "    <h2>Section 1</h2>\n",
    "    <p>More details here.</p>\n",
    "    <h2>Section 2</h2>\n",
    "    <p>Even more details here.</p>\n",
    "</body>\n",
    "</html>\n",
    "\"\"\"\n",
    "\n",
    "headers = [\n",
    "    (\"h1\", \"Header 1\"),\n",
    "    (\"h2\", \"Header 2\")\n",
    "]\n",
    "\n",
    "splitter = HTMLHeaderTextSplitter(headers_to_split_on=headers)\n",
    "html_header_splits = splitter.split_text(html_string)\n",
    "\n",
    "for doc in html_header_splits:\n",
    "    print(doc.metadata, doc.page_content)\n"
   ]
  },
  {
   "cell_type": "markdown",
   "id": "e3636ce7",
   "metadata": {},
   "source": [
    "## Split JSON data"
   ]
  },
  {
   "cell_type": "code",
   "execution_count": null,
   "id": "24b79c28",
   "metadata": {},
   "outputs": [],
   "source": [
    "import json \n",
    "import requests\n",
    "\n",
    "json_data = requests.get(\"https://api.smith.langchain.com/openapi.json\").json()\n",
    "\n",
    "print(json_data)\n",
    "\n"
   ]
  },
  {
   "cell_type": "code",
   "execution_count": null,
   "id": "88a87673",
   "metadata": {},
   "outputs": [],
   "source": [
    "from langchain_text_splitters import RecursiveJsonSplitter\n",
    "\n",
    "json_splitter = RecursiveJsonSplitter(max_chunk_size=300)\n",
    "json_chunks = json_splitter.split_json(json_data)\n",
    "json_chunks"
   ]
  },
  {
   "cell_type": "code",
   "execution_count": 15,
   "id": "2052f387",
   "metadata": {},
   "outputs": [
    {
     "name": "stdout",
     "output_type": "stream",
     "text": [
      "{'openapi': '3.1.0', 'info': {'title': 'LangSmith', 'version': '0.1.0'}, 'paths': {'/api/v1/sessions/{session_id}/dashboard': {'post': {'tags': ['tracer-sessions'], 'summary': 'Get Tracing Project Prebuilt Dashboard', 'description': 'Get a prebuilt dashboard for a tracing project.'}}}}\n",
      "{'paths': {'/api/v1/sessions/{session_id}/dashboard': {'post': {'operationId': 'get_tracing_project_prebuilt_dashboard_api_v1_sessions__session_id__dashboard_post', 'security': [{'API Key': []}, {'Tenant ID': []}, {'Bearer Auth': []}]}}}}\n",
      "{'paths': {'/api/v1/sessions/{session_id}/dashboard': {'post': {'parameters': [{'name': 'session_id', 'in': 'path', 'required': True, 'schema': {'type': 'string', 'format': 'uuid', 'title': 'Session Id'}}, {'name': 'accept', 'in': 'header', 'required': False, 'schema': {'anyOf': [{'type': 'string'}, {'type': 'null'}], 'title': 'Accept'}}]}}}}\n"
     ]
    }
   ],
   "source": [
    "for chunk in json_chunks[:3]:\n",
    "    print(chunk)"
   ]
  },
  {
   "cell_type": "code",
   "execution_count": 16,
   "id": "c0da62b1",
   "metadata": {},
   "outputs": [
    {
     "name": "stdout",
     "output_type": "stream",
     "text": [
      "page_content='{\"openapi\": \"3.1.0\", \"info\": {\"title\": \"LangSmith\", \"version\": \"0.1.0\"}, \"paths\": {\"/api/v1/sessions/{session_id}/dashboard\": {\"post\": {\"tags\": [\"tracer-sessions\"], \"summary\": \"Get Tracing Project Prebuilt Dashboard\", \"description\": \"Get a prebuilt dashboard for a tracing project.\"}}}}'\n",
      "page_content='{\"paths\": {\"/api/v1/sessions/{session_id}/dashboard\": {\"post\": {\"operationId\": \"get_tracing_project_prebuilt_dashboard_api_v1_sessions__session_id__dashboard_post\", \"security\": [{\"API Key\": []}, {\"Tenant ID\": []}, {\"Bearer Auth\": []}]}}}}'\n",
      "page_content='{\"paths\": {\"/api/v1/sessions/{session_id}/dashboard\": {\"post\": {\"parameters\": [{\"name\": \"session_id\", \"in\": \"path\", \"required\": true, \"schema\": {\"type\": \"string\", \"format\": \"uuid\", \"title\": \"Session Id\"}}, {\"name\": \"accept\", \"in\": \"header\", \"required\": false, \"schema\": {\"anyOf\": [{\"type\": \"string\"}, {\"type\": \"null\"}], \"title\": \"Accept\"}}]}}}}'\n"
     ]
    }
   ],
   "source": [
    "# The splitter can also output documents\n",
    "docs = splitter.create_documents(texts=[json_data])\n",
    "\n",
    "for doc in docs[:3]:\n",
    "    print(doc)"
   ]
  },
  {
   "cell_type": "code",
   "execution_count": null,
   "id": "87ca5866",
   "metadata": {},
   "outputs": [],
   "source": []
  }
 ],
 "metadata": {
  "kernelspec": {
   "display_name": "Python 3",
   "language": "python",
   "name": "python3"
  },
  "language_info": {
   "codemirror_mode": {
    "name": "ipython",
    "version": 3
   },
   "file_extension": ".py",
   "mimetype": "text/x-python",
   "name": "python",
   "nbconvert_exporter": "python",
   "pygments_lexer": "ipython3",
   "version": "3.10.18"
  }
 },
 "nbformat": 4,
 "nbformat_minor": 5
}
