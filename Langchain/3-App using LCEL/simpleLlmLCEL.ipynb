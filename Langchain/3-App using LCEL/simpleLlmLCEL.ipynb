{
 "cells": [
  {
   "cell_type": "markdown",
   "id": "b00e46a7",
   "metadata": {},
   "source": [
    "##### Using language models\n",
    "##### Using PromptTemplates and OutputParsers\n",
    "##### Using LangChain Expression Language (LCEL) to chain components together\n",
    "##### Debugging and tracing your application using LangSmith\n",
    "##### Deploying your application with LangSewe"
   ]
  },
  {
   "cell_type": "code",
   "execution_count": 2,
   "id": "6a7333a4",
   "metadata": {},
   "outputs": [
    {
     "data": {
      "text/plain": [
       "'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'"
      ]
     },
     "execution_count": 2,
     "metadata": {},
     "output_type": "execute_result"
    }
   ],
   "source": [
    "import os \n",
    "from dotenv import load_dotenv\n",
    "load_dotenv()\n",
    "\n",
    "grok_api_key = os.getenv(\"GROQ_API_KEY\")\n",
    "grok_api_key\n"
   ]
  },
  {
   "cell_type": "code",
   "execution_count": 3,
   "id": "f75f18f2",
   "metadata": {},
   "outputs": [
    {
     "data": {
      "text/plain": [
       "ChatGroq(client=<groq.resources.chat.completions.Completions object at 0x000002CA1A302710>, async_client=<groq.resources.chat.completions.AsyncCompletions object at 0x000002CA1A300250>, model_name='gemma2-9b-it', model_kwargs={}, groq_api_key=SecretStr('**********'))"
      ]
     },
     "execution_count": 3,
     "metadata": {},
     "output_type": "execute_result"
    }
   ],
   "source": [
    "from langchain_groq import ChatGroq\n",
    "model =  ChatGroq(model=\"gemma2-9b-it\",groq_api_key=grok_api_key)\n",
    "model\n"
   ]
  },
  {
   "cell_type": "code",
   "execution_count": 4,
   "metadata": {},
   "outputs": [],
   "source": [
    "from langchain_core.messages import HumanMessage,SystemMessage\n",
    "\n",
    "messages = [\n",
    "    SystemMessage(content=\"Translate the following from English to French\"),\n",
    "    HumanMessage(content=\"Hello how are you?\")\n",
    "]\n",
    "\n",
    "result = model.invoke(messages)"
   ]
  },
  {
   "cell_type": "code",
   "execution_count": 5,
   "id": "80cd2d7b",
   "metadata": {},
   "outputs": [
    {
     "data": {
      "text/plain": [
       "'The most common way to say \"Hello, how are you?\" in French is:\\n\\n**Bonjour, comment allez-vous ?** \\n\\nHere\\'s a breakdown:\\n\\n* **Bonjour** - Hello\\n* **Comment** - How\\n* **allez-vous** - are you (formal, polite)\\n\\n\\nLet me know if you\\'d like to know other ways to say it!\\n'"
      ]
     },
     "execution_count": 5,
     "metadata": {},
     "output_type": "execute_result"
    }
   ],
   "source": [
    "from langchain_core.output_parsers import StrOutputParser\n",
    "parser = StrOutputParser()\n",
    "parser.invoke(result)"
   ]
  },
  {
   "cell_type": "code",
   "execution_count": 6,
   "id": "da877007",
   "metadata": {},
   "outputs": [
    {
     "data": {
      "text/plain": [
       "\"The most common translation is:\\n\\n* **Salut, comment vas-tu ?** (informal)\\n\\nYou can also use:\\n\\n* **Bonjour, comment allez-vous ?** (formal) \\n\\n\\nLet me know if you have any other phrases you'd like translated!\\n\""
      ]
     },
     "execution_count": 6,
     "metadata": {},
     "output_type": "execute_result"
    }
   ],
   "source": [
    "# Using LCEL we can chain the components\n",
    "\n",
    "chain = model|parser\n",
    "chain.invoke(messages)"
   ]
  },
  {
   "cell_type": "code",
   "execution_count": 7,
   "id": "aa8de1cf",
   "metadata": {},
   "outputs": [],
   "source": [
    "# Propmt Templates\n",
    "from langchain_core.prompts import ChatPromptTemplate\n",
    "\n",
    "genric_template = \"Translate the following into {language}:\"\n",
    "\n",
    "prompt = ChatPromptTemplate.from_messages(\n",
    "    [\n",
    "        (\"system\",genric_template),\n",
    "        (\"user\",\"{text}\")\n",
    "    ]\n",
    ")\n",
    "\n"
   ]
  },
  {
   "cell_type": "code",
   "execution_count": 8,
   "id": "b5520847",
   "metadata": {},
   "outputs": [],
   "source": [
    "result = prompt.invoke({\"language\":\"French\",\"text\":\"hello\"})"
   ]
  },
  {
   "cell_type": "code",
   "execution_count": 12,
   "id": "642a1029",
   "metadata": {},
   "outputs": [
    {
     "data": {
      "text/plain": [
       "'Bonjour  \\n'"
      ]
     },
     "execution_count": 12,
     "metadata": {},
     "output_type": "execute_result"
    }
   ],
   "source": [
    "chain = prompt|model|parser\n",
    "chain.invoke({\"language\":\"French\",\"text\":\"hello\"})"
   ]
  },
  {
   "cell_type": "code",
   "execution_count": null,
   "id": "63a168a1",
   "metadata": {},
   "outputs": [],
   "source": []
  }
 ],
 "metadata": {
  "kernelspec": {
   "display_name": "Python 3",
   "language": "python",
   "name": "python3"
  },
  "language_info": {
   "codemirror_mode": {
    "name": "ipython",
    "version": 3
   },
   "file_extension": ".py",
   "mimetype": "text/x-python",
   "name": "python",
   "nbconvert_exporter": "python",
   "pygments_lexer": "ipython3",
   "version": "3.10.18"
  }
 },
 "nbformat": 4,
 "nbformat_minor": 5
}
