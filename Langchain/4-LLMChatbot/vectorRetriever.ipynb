{
 "cells": [
  {
   "cell_type": "markdown",
   "id": "4b2e05ed",
   "metadata": {},
   "source": [
    "###  Vector stores and retrievers\n",
    "This video tutorial will familiarize you with LangChain's vector store and retriever abstractions. These\n",
    "abstractions are designed to support retrieval of data-- from (vector) databases and other sources-- for\n",
    "integration with LLM workflows. They are important for applications that fetch data to be reasoned over as part\n",
    "of model inference, as in the case of retrieval-augmented generation.\n",
    "We will cover\n",
    "\n",
    "•Documents\n",
    "\n",
    "•Vector stores\n",
    "\n",
    "•Retrievers\n",
    "\n"
   ]
  },
  {
   "cell_type": "markdown",
   "id": "a7c5d780",
   "metadata": {},
   "source": [
    "### Documents\n",
    "LangChain implements a Document abstraction, which is intended to represent a unit of text and\n",
    "associated metadata. It has two attributes:\n",
    "\n",
    "- page content: a string representing the content;\n",
    "- metadata: a dict containing arbitrary metadata.\n",
    "The metadata attribute can capture information about the source of the document, its relationship\n",
    "to other documents, and other information. Note that an individual Document object often\n",
    "represents a chunk of a larger document.\n",
    "\n",
    "Let's generate some sample documents:"
   ]
  },
  {
   "cell_type": "code",
   "execution_count": 1,
   "id": "6bf0f184",
   "metadata": {},
   "outputs": [
    {
     "data": {
      "text/plain": [
       "[Document(metadata={'source': 'mammal-pets-doc'}, page_content='Dogs are great companions, known for their loyalty and friendliness.'),\n",
       " Document(metadata={'source': 'mammal-pets-doc'}, page_content='Cats are independent animals, often appreciated for their playful nature.'),\n",
       " Document(metadata={'source': 'bird-pets-doc'}, page_content='Birds can be colorful and are often kept as pets for their singing abilities.'),\n",
       " Document(metadata={'source': 'aquatic-pets-doc'}, page_content='Fish are popular pets, known for their calming presence in aquariums.'),\n",
       " Document(metadata={'source': 'reptile-pets-doc'}, page_content='Reptiles, such as turtles and snakes, are unique pets that require special care.')]"
      ]
     },
     "execution_count": 1,
     "metadata": {},
     "output_type": "execute_result"
    }
   ],
   "source": [
    "from langchain_core.documents import Document\n",
    "\n",
    "documents = [\n",
    "    Document(\n",
    "        page_content=\"Dogs are great companions, known for their loyalty and friendliness.\",\n",
    "        metadata={\"source\": \"mammal-pets-doc\"},\n",
    "    ),\n",
    "    Document(\n",
    "        page_content=\"Cats are independent animals, often appreciated for their playful nature.\",\n",
    "        metadata={\"source\": \"mammal-pets-doc\"},\n",
    "    ),\n",
    "    Document(\n",
    "        page_content=\"Birds can be colorful and are often kept as pets for their singing abilities.\",\n",
    "        metadata={\"source\": \"bird-pets-doc\"},\n",
    "    ),\n",
    "    Document(\n",
    "        page_content=\"Fish are popular pets, known for their calming presence in aquariums.\",\n",
    "        metadata={\"source\": \"aquatic-pets-doc\"},\n",
    "    ),\n",
    "    Document(\n",
    "        page_content=\"Reptiles, such as turtles and snakes, are unique pets that require special care.\",\n",
    "        metadata={\"source\": \"reptile-pets-doc\"},\n",
    "    ),\n",
    "]\n",
    "documents"
   ]
  },
  {
   "cell_type": "code",
   "execution_count": 3,
   "id": "e84277b2",
   "metadata": {},
   "outputs": [
    {
     "data": {
      "text/plain": [
       "ChatGroq(client=<groq.resources.chat.completions.Completions object at 0x000002207AB32C50>, async_client=<groq.resources.chat.completions.AsyncCompletions object at 0x000002207AB31AE0>, model_name='Llama3-8b-8192', model_kwargs={}, groq_api_key=SecretStr('**********'))"
      ]
     },
     "execution_count": 3,
     "metadata": {},
     "output_type": "execute_result"
    }
   ],
   "source": [
    "import os \n",
    "from dotenv import load_dotenv\n",
    "from langchain_groq import ChatGroq\n",
    "load_dotenv()\n",
    "groq_api_key = os.getenv(\"GROQ_API_KEY\")\n",
    "groq_api_key\n",
    "os.environ[\"HF_TOKEN\"] = os.getenv(\"HF_TOKEN\")\n",
    "llm = ChatGroq(model=\"Llama3-8b-8192\",groq_api_key = groq_api_key)\n",
    "llm"
   ]
  },
  {
   "cell_type": "code",
   "execution_count": 4,
   "id": "6c0e6cfc",
   "metadata": {},
   "outputs": [
    {
     "name": "stderr",
     "output_type": "stream",
     "text": [
      "e:\\GenAi\\Langchain\\venv\\lib\\site-packages\\tqdm\\auto.py:21: TqdmWarning: IProgress not found. Please update jupyter and ipywidgets. See https://ipywidgets.readthedocs.io/en/stable/user_install.html\n",
      "  from .autonotebook import tqdm as notebook_tqdm\n"
     ]
    }
   ],
   "source": [
    "from langchain_huggingface import HuggingFaceEmbeddings\n",
    "embeddings = HuggingFaceEmbeddings(model_name=\"all-MiniLM-L6-v2\")"
   ]
  },
  {
   "cell_type": "code",
   "execution_count": 5,
   "id": "2c2d2a93",
   "metadata": {},
   "outputs": [
    {
     "name": "stderr",
     "output_type": "stream",
     "text": [
      "e:\\GenAi\\Langchain\\venv\\lib\\site-packages\\torch\\nn\\modules\\module.py:1762: FutureWarning: `encoder_attention_mask` is deprecated and will be removed in version 4.55.0 for `BertSdpaSelfAttention.forward`.\n",
      "  return forward_call(*args, **kwargs)\n"
     ]
    },
    {
     "data": {
      "text/plain": [
       "<langchain_chroma.vectorstores.Chroma at 0x22009a83580>"
      ]
     },
     "execution_count": 5,
     "metadata": {},
     "output_type": "execute_result"
    }
   ],
   "source": [
    "## VectorStores\n",
    "from langchain_chroma import Chroma\n",
    "\n",
    "vectorstore = Chroma.from_documents(documents,embedding = embeddings)       # documents are embedding using this embedding technique and store in chroma db\n",
    "vectorstore"
   ]
  },
  {
   "cell_type": "code",
   "execution_count": 8,
   "id": "bc644903",
   "metadata": {},
   "outputs": [
    {
     "data": {
      "text/plain": [
       "[Document(id='2b611930-2c14-4fac-88ed-527d4305b6a2', metadata={'source': 'mammal-pets-doc'}, page_content='Cats are independent animals, often appreciated for their playful nature.'),\n",
       " Document(id='4d14795b-f0e0-43e4-8a61-613089e6e956', metadata={'source': 'aquatic-pets-doc'}, page_content='Fish are popular pets, known for their calming presence in aquariums.'),\n",
       " Document(id='e52abe38-18d7-4b7c-88c3-f6931f5e5aaf', metadata={'source': 'reptile-pets-doc'}, page_content='Reptiles, such as turtles and snakes, are unique pets that require special care.'),\n",
       " Document(id='bb02885b-71a0-4883-a06e-a145073228da', metadata={'source': 'bird-pets-doc'}, page_content='Birds can be colorful and are often kept as pets for their singing abilities.')]"
      ]
     },
     "execution_count": 8,
     "metadata": {},
     "output_type": "execute_result"
    }
   ],
   "source": [
    "vectorstore.similarity_search(\"cats\")"
   ]
  },
  {
   "cell_type": "code",
   "execution_count": 9,
   "id": "283bff8b",
   "metadata": {},
   "outputs": [
    {
     "data": {
      "text/plain": [
       "[Document(id='2b611930-2c14-4fac-88ed-527d4305b6a2', metadata={'source': 'mammal-pets-doc'}, page_content='Cats are independent animals, often appreciated for their playful nature.'),\n",
       " Document(id='4d14795b-f0e0-43e4-8a61-613089e6e956', metadata={'source': 'aquatic-pets-doc'}, page_content='Fish are popular pets, known for their calming presence in aquariums.'),\n",
       " Document(id='e52abe38-18d7-4b7c-88c3-f6931f5e5aaf', metadata={'source': 'reptile-pets-doc'}, page_content='Reptiles, such as turtles and snakes, are unique pets that require special care.'),\n",
       " Document(id='bb02885b-71a0-4883-a06e-a145073228da', metadata={'source': 'bird-pets-doc'}, page_content='Birds can be colorful and are often kept as pets for their singing abilities.')]"
      ]
     },
     "execution_count": 9,
     "metadata": {},
     "output_type": "execute_result"
    }
   ],
   "source": [
    "#  ASync query\n",
    "\n",
    "await vectorstore.asimilarity_search(\"cats\")"
   ]
  },
  {
   "cell_type": "code",
   "execution_count": 10,
   "id": "455c3cd2",
   "metadata": {},
   "outputs": [
    {
     "name": "stderr",
     "output_type": "stream",
     "text": [
      "e:\\GenAi\\Langchain\\venv\\lib\\site-packages\\torch\\nn\\modules\\module.py:1762: FutureWarning: `encoder_attention_mask` is deprecated and will be removed in version 4.55.0 for `BertSdpaSelfAttention.forward`.\n",
      "  return forward_call(*args, **kwargs)\n"
     ]
    },
    {
     "data": {
      "text/plain": [
       "[(Document(id='2b611930-2c14-4fac-88ed-527d4305b6a2', metadata={'source': 'mammal-pets-doc'}, page_content='Cats are independent animals, often appreciated for their playful nature.'),\n",
       "  0.8897172212600708),\n",
       " (Document(id='4d14795b-f0e0-43e4-8a61-613089e6e956', metadata={'source': 'aquatic-pets-doc'}, page_content='Fish are popular pets, known for their calming presence in aquariums.'),\n",
       "  1.3621560335159302),\n",
       " (Document(id='e52abe38-18d7-4b7c-88c3-f6931f5e5aaf', metadata={'source': 'reptile-pets-doc'}, page_content='Reptiles, such as turtles and snakes, are unique pets that require special care.'),\n",
       "  1.3881986141204834),\n",
       " (Document(id='bb02885b-71a0-4883-a06e-a145073228da', metadata={'source': 'bird-pets-doc'}, page_content='Birds can be colorful and are often kept as pets for their singing abilities.'),\n",
       "  1.4091432094573975)]"
      ]
     },
     "execution_count": 10,
     "metadata": {},
     "output_type": "execute_result"
    }
   ],
   "source": [
    "vectorstore.similarity_search_with_score(\"cats\")"
   ]
  },
  {
   "cell_type": "markdown",
   "id": "926715ff",
   "metadata": {},
   "source": [
    "## Retrievers\n",
    "LangChain VectorStore objects do not subclass Runnable, and so cannot immediately be integrated into\n",
    "LangChain Expression language chains.\n",
    "\n",
    "LangChain Retrievers are Runnables, so they implement a standard set of methods (e.g., synchronous and\n",
    "asynchronous invoke and batch operations) and are designed to be incorporated in LCEL chains.\n",
    "\n",
    "We can create a simple version of this ourselves, without subclassing Retriever. If we choose what method we\n",
    "wish to use to retrieve documents, we can create a runnable easily. Below we will build one around the\n",
    "similarity_search method:"
   ]
  },
  {
   "cell_type": "code",
   "execution_count": null,
   "id": "ded244e5",
   "metadata": {},
   "outputs": [
    {
     "name": "stderr",
     "output_type": "stream",
     "text": [
      "e:\\GenAi\\Langchain\\venv\\lib\\site-packages\\torch\\nn\\modules\\module.py:1762: FutureWarning: `encoder_attention_mask` is deprecated and will be removed in version 4.55.0 for `BertSdpaSelfAttention.forward`.\n",
      "  return forward_call(*args, **kwargs)\n"
     ]
    },
    {
     "data": {
      "text/plain": [
       "[[Document(id='2b611930-2c14-4fac-88ed-527d4305b6a2', metadata={'source': 'mammal-pets-doc'}, page_content='Cats are independent animals, often appreciated for their playful nature.')],\n",
       " [Document(id='6ccb7563-bb2a-4f9c-b973-c98884af72e0', metadata={'source': 'mammal-pets-doc'}, page_content='Dogs are great companions, known for their loyalty and friendliness.')]]"
      ]
     },
     "execution_count": 11,
     "metadata": {},
     "output_type": "execute_result"
    }
   ],
   "source": [
    "# Retrievers\n",
    "\n",
    "from typing import List\n",
    "\n",
    "from langchain_core.documents import Document\n",
    "from langchain_core.runnables import RunnableLambda\n",
    "\n",
    "retriever = RunnableLambda(vectorstore.similarity_search).bind(k=1)\n",
    "retriever.batch([\"cat\",\"dog\"])"
   ]
  },
  {
   "cell_type": "markdown",
   "id": "60868324",
   "metadata": {},
   "source": [
    "Vectorstores implement an as_retriever method that will generate a Retriever, specifically a\n",
    "VectorStoreRetriever. These retrievers include specific search_type and search_kwargs attributes that identify\n",
    "what methods of the underlying vector store to call, and how to parameterize them. For instance, we can\n",
    "replicate the above with the following:"
   ]
  },
  {
   "cell_type": "code",
   "execution_count": 13,
   "id": "f26a5a9c",
   "metadata": {},
   "outputs": [
    {
     "name": "stderr",
     "output_type": "stream",
     "text": [
      "e:\\GenAi\\Langchain\\venv\\lib\\site-packages\\torch\\nn\\modules\\module.py:1762: FutureWarning: `encoder_attention_mask` is deprecated and will be removed in version 4.55.0 for `BertSdpaSelfAttention.forward`.\n",
      "  return forward_call(*args, **kwargs)\n"
     ]
    },
    {
     "data": {
      "text/plain": [
       "[[Document(id='2b611930-2c14-4fac-88ed-527d4305b6a2', metadata={'source': 'mammal-pets-doc'}, page_content='Cats are independent animals, often appreciated for their playful nature.')],\n",
       " [Document(id='6ccb7563-bb2a-4f9c-b973-c98884af72e0', metadata={'source': 'mammal-pets-doc'}, page_content='Dogs are great companions, known for their loyalty and friendliness.')]]"
      ]
     },
     "execution_count": 13,
     "metadata": {},
     "output_type": "execute_result"
    }
   ],
   "source": [
    "retriever = vectorstore.as_retriever(\n",
    "    search_type=\"similarity\",\n",
    "    search_kwargs={\"k\":1}               # batch thing\n",
    ")\n",
    "\n",
    "retriever.batch([\"cat\",\"dog\"])"
   ]
  },
  {
   "cell_type": "code",
   "execution_count": null,
   "id": "70499c60",
   "metadata": {},
   "outputs": [
    {
     "name": "stderr",
     "output_type": "stream",
     "text": [
      "e:\\GenAi\\Langchain\\venv\\lib\\site-packages\\torch\\nn\\modules\\module.py:1762: FutureWarning: `encoder_attention_mask` is deprecated and will be removed in version 4.55.0 for `BertSdpaSelfAttention.forward`.\n",
      "  return forward_call(*args, **kwargs)\n"
     ]
    },
    {
     "data": {
      "text/plain": [
       "AIMessage(content='According to the provided context, dogs are great companions, known for their loyalty and friendliness.', additional_kwargs={}, response_metadata={'token_usage': {'completion_tokens': 20, 'prompt_tokens': 86, 'total_tokens': 106, 'completion_time': 0.024653392, 'prompt_time': 0.027222823, 'queue_time': 0.325011137, 'total_time': 0.051876215}, 'model_name': 'Llama3-8b-8192', 'system_fingerprint': 'fp_0fb809dba3', 'service_tier': 'on_demand', 'finish_reason': 'stop', 'logprobs': None}, id='run--5d365a9a-c6ee-4ef2-97d7-5d96c02f6ff6-0', usage_metadata={'input_tokens': 86, 'output_tokens': 20, 'total_tokens': 106})"
      ]
     },
     "execution_count": 15,
     "metadata": {},
     "output_type": "execute_result"
    }
   ],
   "source": [
    "# Rag = Retriever Autmented Generation\n",
    "\n",
    "from langchain_core.prompts import ChatPromptTemplate\n",
    "from langchain_core.runnables import RunnablePassthrough\n",
    "\n",
    "message = \"\"\"\n",
    "    Answer the question using provided context only    \n",
    "    {question}\n",
    "\n",
    "    context:\n",
    "    {context}\n",
    "\"\"\"\n",
    "\n",
    "prompt = ChatPromptTemplate.from_messages([(\"human\",message)])\n",
    "\n",
    "rag_chain = {\"context\":retriever,\"question\":RunnablePassthrough()} | prompt | llm\n",
    "\n",
    "response = rag_chain.invoke(\"tell me about dog\")\n",
    "\n",
    "response"
   ]
  },
  {
   "cell_type": "code",
   "execution_count": null,
   "id": "b49c01cf",
   "metadata": {},
   "outputs": [],
   "source": []
  },
  {
   "cell_type": "markdown",
   "id": "d12078e2",
   "metadata": {},
   "source": []
  }
 ],
 "metadata": {
  "kernelspec": {
   "display_name": "Python 3",
   "language": "python",
   "name": "python3"
  },
  "language_info": {
   "codemirror_mode": {
    "name": "ipython",
    "version": 3
   },
   "file_extension": ".py",
   "mimetype": "text/x-python",
   "name": "python",
   "nbconvert_exporter": "python",
   "pygments_lexer": "ipython3",
   "version": "3.10.18"
  }
 },
 "nbformat": 4,
 "nbformat_minor": 5
}
