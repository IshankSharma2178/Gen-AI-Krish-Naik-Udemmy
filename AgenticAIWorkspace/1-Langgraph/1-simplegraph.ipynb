{
 "cells": [
  {
   "cell_type": "markdown",
   "id": "6eb71a2a",
   "metadata": {},
   "source": [
    "### Build a Simple Workflow or Graph Using LangGraph\n",
    "First, define the State of the graph.\n",
    "\n",
    "The State schema serves as the input schema for all Nodes and Edges in the graph.\n",
    "\n",
    "Let's use the TypedDict class from python's typing module as our schema, which provides type hints\n",
    "the keys."
   ]
  },
  {
   "cell_type": "code",
   "execution_count": 13,
   "id": "2eb686ca",
   "metadata": {},
   "outputs": [],
   "source": [
    "from typing_extensions import TypedDict\n",
    "class State(TypedDict):\n",
    "    graph_info:str\n"
   ]
  },
  {
   "cell_type": "markdown",
   "id": "f4f57e8e",
   "metadata": {},
   "source": [
    "### Nodes\n",
    "Nodes are just python functions.\n",
    "\n",
    "The first positional argument is the state, as defined above.\n",
    "\n",
    "Because the state is a TypedDict with schema as defined above, each node can access the key, graph _ state, with state ['graph_state'].\n",
    "\n",
    "Each node returns a new value of the state key graph _ state.\n",
    "\n",
    "By default, the new value returned by each node will override the prior state value."
   ]
  },
  {
   "cell_type": "code",
   "execution_count": 14,
   "id": "a2fd51c4",
   "metadata": {},
   "outputs": [],
   "source": [
    "def start_play(state:State):\n",
    "    print(\"Start_play node has been called\")\n",
    "    return {\"graph_info\":state[\"graph_info\"] + \"I am planning to play\"}\n",
    "\n",
    "def cricket(state:State):\n",
    "    print(\"My cricket node has been called\")\n",
    "    return {\"graph_info\":state[\"graph_info\"]+\"cricket\"}\n",
    "\n",
    "def Badminton(state:State):\n",
    "    print(\"My Badminton node has been called\")\n",
    "    return {\"graph_info\":state[\"graph_info\"]+\"Badminton\"}"
   ]
  },
  {
   "cell_type": "code",
   "execution_count": 15,
   "metadata": {},
   "outputs": [],
   "source": [
    "import random\n",
    "from typing import Literal\n",
    "\n",
    "def random_play(state:State) -> Literal[\"cricket\",\"Badminton\"] :\n",
    "    graph_info = state[\"graph_info\"]\n",
    "\n",
    "    if random.random() > 0.5:\n",
    "        return \"cricket\"\n",
    "    else:\n",
    "        return \"Badminton\"\n"
   ]
  },
  {
   "cell_type": "markdown",
   "id": "0df28b89",
   "metadata": {},
   "source": [
    "### Graph Construction\n",
    "\n",
    "Now, we build the graph from our components defined above.\n",
    "\n",
    "The StateGraph class is the g;aph class that we can use.\n",
    "\n",
    "First, we initialize a StateGraph with the State class we defined above.\n",
    "\n",
    "Then, we add our nodes and edges.\n",
    "\n",
    "We use the START Node, a special node that sends user input to the graph, to indicate where to start our graph.\n",
    "\n",
    "The END Node is a special node that represents a terminal node.\n",
    "\n",
    "Finally, we compile our graph to perform a few basic checks on the graph structure.\n",
    "\n",
    "We can visualize the graph as a Mermaid diagram."
   ]
  },
  {
   "cell_type": "code",
   "execution_count": null,
   "metadata": {},
   "outputs": [
    {
     "data": {
      "image/png": "[encoded data removed]",
      "text/plain": [
       "<IPython.core.display.Image object>"
      ]
     },
     "metadata": {},
     "output_type": "display_data"
    }
   ],
   "source": [
    "from IPython.display import Image,display\n",
    "from langgraph.graph import StateGraph,START,END\n",
    "\n",
    "# Build Graph\n",
    "graph = StateGraph(State)\n",
    "\n",
    "# Adding the nodes\n",
    "graph.add_node(\"start_play\",start_play)\n",
    "graph.add_node(\"cricket\",cricket)\n",
    "graph.add_node(\"Badminton\",Badminton)\n",
    "\n",
    "# Scheduling the flow of graph\n",
    "graph.add_edge(START,\"start_play\")\n",
    "graph.add_conditional_edges(\"start_play\",random_play)\n",
    "graph.add_edge(\"cricket\",END)\n",
    "graph.add_edge(\"Badminton\",END)\n",
    "\n",
    "# Compile the graph\n",
    "graph_builder = graph.compile()\n",
    "\n",
    "# View the graph\n",
    "display(Image(graph_builder.get_graph().draw_mermaid_png()))"
   ]
  },
  {
   "cell_type": "markdown",
   "id": "5efcc330",
   "metadata": {},
   "source": [
    "### Graph Invocation"
   ]
  },
  {
   "cell_type": "code",
   "execution_count": 32,
   "metadata": {},
   "outputs": [
    {
     "name": "stdout",
     "output_type": "stream",
     "text": [
      "Start_play node has been called\n",
      "My cricket node has been called\n"
     ]
    },
    {
     "data": {
      "text/plain": [
       "{'graph_info': 'Hey my name is IshankI am planning to playcricket'}"
      ]
     },
     "execution_count": 32,
     "metadata": {},
     "output_type": "execute_result"
    }
   ],
   "source": [
    "graph_builder.invoke({\"graph_info\":\"Hey my name is Ishank\"})"
   ]
  },
  {
   "cell_type": "code",
   "execution_count": null,
   "id": "96df163b",
   "metadata": {},
   "outputs": [],
   "source": []
  }
 ],
 "metadata": {
  "kernelspec": {
   "display_name": "Python 3",
   "language": "python",
   "name": "python3"
  },
  "language_info": {
   "codemirror_mode": {
    "name": "ipython",
    "version": 3
   },
   "file_extension": ".py",
   "mimetype": "text/x-python",
   "name": "python",
   "nbconvert_exporter": "python",
   "pygments_lexer": "ipython3",
   "version": "3.10.0"
  }
 },
 "nbformat": 4,
 "nbformat_minor": 5
}
