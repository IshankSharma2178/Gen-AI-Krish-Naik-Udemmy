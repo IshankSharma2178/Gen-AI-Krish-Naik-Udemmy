{
 "cells": [
  {
   "cell_type": "markdown",
   "id": "534d7a7a",
   "metadata": {},
   "source": [
    "### State Schema With DataClasses\n",
    "When we define a LangGraph StateGraph, we use a state schema.\n",
    "The state schema represents the structure and types of data that our graph will use.\n",
    "All nodes are expected to communicate with that schema.\n",
    "LangGraph offers flexibility in how you define your state schema, accommodating various Python types and\n",
    "validation approaches!\n",
    "\n",
    "\n",
    "we can use the TypedDict class from python's typing module.\n",
    "It allows you to specify keys and their corresponding value types.\n",
    "But, note that these are type hints.\n",
    "They can be used by static type checkers (like mypy) or IDEs to catch potential type-related errors before the code is run.\n",
    "But they are not enforced at runtime!\n",
    "\n"
   ]
  },
  {
   "cell_type": "code",
   "execution_count": null,
   "metadata": {},
   "outputs": [],
   "source": [
    "from typing_extensions import TypedDict\n",
    "from typing import Literal\n",
    "\n",
    "class TypedDictState(TypedDict):\n",
    "    name : str\n",
    "    game : Literal[\"cricket\",\"badminton\"]\n"
   ]
  },
  {
   "cell_type": "code",
   "execution_count": null,
   "id": "60820468",
   "metadata": {},
   "outputs": [],
   "source": [
    "import random\n",
    "\n",
    "def decide_play(state:TypedDictState) -> Literal[\"cricket\",\"badminton\"]:\n",
    "    if random.random() > 0.5:\n",
    "        return \"cricket\"\n",
    "    else:\n",
    "        return \"badminton\"\n",
    "\n",
    "def play_game(state:TypedDictState):\n",
    "    print(\"---- Play game node has been called ----\")\n",
    "    return {\"name\":state[\"name\"] + \" want to play \"}\n",
    "\n",
    "def cricket(state:TypedDictState):\n",
    "    print(\" --- cricket node has been called --- \")\n",
    "    return {\"name\":state[\"name\"] + \"cricket\",\"game\":\"cricket\"}\n",
    "\n",
    "def badminton(state:TypedDictState):\n",
    "    print(\" --- badminton node has been called --- \")\n",
    "    return {\"name\":state[\"name\"] + \"badminton\",\"game\":\"badminton\"}"
   ]
  },
  {
   "cell_type": "code",
   "execution_count": null,
   "id": "7eec47b3",
   "metadata": {},
   "outputs": [],
   "source": [
    "from IPython.display import Image,display\n",
    "from langgraph.graph import StateGraph,START,END\n",
    "\n",
    "builder = StateGraph(TypedDictState)\n",
    "builder.add_node(\"play_game\",play_game)\n",
    "builder.add_node(\"cricket\",cricket)\n",
    "builder.add_node(\"badminton\",badminton)\n",
    "\n",
    "builder.add_edge(START,\"play_game\")\n",
    "builder.add_conditional_edges(\"play_game\",decide_play)\n",
    "builder.add_edge(\"cricket\",END)\n",
    "builder.add_edge(\"badminton\",END)\n",
    "\n",
    "graph = builder.compile()\n",
    "\n",
    "display(Image(graph.get_graph().draw_mermaid_png()))"
   ]
  },
  {
   "cell_type": "code",
   "execution_count": null,
   "metadata": {},
   "outputs": [],
   "source": [
    "graph.invoke({\"name\":\"ishank\"})"
   ]
  },
  {
   "cell_type": "code",
   "execution_count": null,
   "id": "f3c271c7",
   "metadata": {},
   "outputs": [],
   "source": [
    "graph.invoke({\"name\":123456})    # this not give error although it is not string"
   ]
  },
  {
   "cell_type": "markdown",
   "id": "1406f100",
   "metadata": {},
   "source": [
    "### Dataclasses\n",
    "Python's dataclasses provide another way to define structured data.\n",
    "Dataclasses offer a concise syntax for creating classes that are primarily used to store data."
   ]
  },
  {
   "cell_type": "code",
   "execution_count": null,
   "id": "0a014af6",
   "metadata": {},
   "outputs": [],
   "source": [
    "# DataClass\n",
    "\n",
    "from dataclasses import dataclass\n",
    "\n",
    "@dataclass\n",
    "class DataClassState:\n",
    "    name:str\n",
    "    game:Literal[\"badminton\",\"cricket\"]"
   ]
  },
  {
   "cell_type": "code",
   "execution_count": null,
   "id": "8b93b281",
   "metadata": {},
   "outputs": [],
   "source": [
    "def play_game(state:DataClassState):\n",
    "    print(\"---- Play game node has been called ----\")\n",
    "    return {\"name\":state.name + \" want to play \"}\n",
    "\n",
    "def cricket(state:DataClassState):\n",
    "    print(\" --- cricket node has been called --- \")\n",
    "    return {\"name\":state.name + \"cricket\",\"game\":\"cricket\"}\n",
    "\n",
    "def badminton(state:DataClassState):\n",
    "    print(\" --- badminton node has been called --- \")\n",
    "    return {\"name\":state.name + \"badminton\",\"game\":\"badminton\"}"
   ]
  },
  {
   "cell_type": "code",
   "execution_count": null,
   "id": "3197b86e",
   "metadata": {},
   "outputs": [],
   "source": [
    "import random\n",
    "\n",
    "def decide_play(state:DataClassState) -> Literal[\"cricket\",\"badminton\"]:\n",
    "    if random.random() > 0.5:\n",
    "        return \"cricket\"\n",
    "    else:\n",
    "        return \"badminton\""
   ]
  },
  {
   "cell_type": "code",
   "execution_count": null,
   "id": "1f47db57",
   "metadata": {},
   "outputs": [],
   "source": [
    "builder = StateGraph(DataClassState)\n",
    "builder.add_node(\"play_game\",play_game)\n",
    "builder.add_node(\"cricket\",cricket)\n",
    "builder.add_node(\"badminton\",badminton)\n",
    "\n",
    "builder.add_edge(START,\"play_game\")\n",
    "builder.add_conditional_edges(\"play_game\",decide_play)\n",
    "builder.add_edge(\"cricket\",END)\n",
    "builder.add_edge(\"badminton\",END)\n",
    "\n",
    "graph = builder.compile()\n",
    "\n",
    "display(Image(graph.get_graph().draw_mermaid_png()))"
   ]
  },
  {
   "cell_type": "code",
   "execution_count": null,
   "id": "06b1c744",
   "metadata": {},
   "outputs": [],
   "source": [
    "graph.invoke(DataClassState(name=\"Ishank\",game=\"badminton\"))"
   ]
  },
  {
   "cell_type": "code",
   "execution_count": null,
   "id": "be5a0f1c",
   "metadata": {},
   "outputs": [],
   "source": [
    "graph.invoke(DataClassState(name=123123,game=\"badminton\"))          # this also dont implement type safety "
   ]
  }
 ],
 "metadata": {
  "kernelspec": {
   "display_name": "Python 3",
   "language": "python",
   "name": "python3"
  },
  "language_info": {
   "codemirror_mode": {
    "name": "ipython",
    "version": 3
   },
   "file_extension": ".py",
   "mimetype": "text/x-python",
   "name": "python",
   "nbconvert_exporter": "python",
   "pygments_lexer": "ipython3",
   "version": "3.10.0"
  }
 },
 "nbformat": 4,
 "nbformat_minor": 5
}
