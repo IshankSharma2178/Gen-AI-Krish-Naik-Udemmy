{
 "cells": [
  {
   "cell_type": "code",
   "execution_count": 1,
   "id": "39c7e14b",
   "metadata": {},
   "outputs": [],
   "source": [
    "### Simple chatbot using langgraph"
   ]
  },
  {
   "cell_type": "code",
   "execution_count": 2,
   "id": "74a49a9a",
   "metadata": {},
   "outputs": [],
   "source": [
    "from typing_extensions import TypedDict\n",
    "from langgraph.graph import StateGraph,START,END\n",
    "\n",
    "# Reducers\n",
    "from langgraph.graph.message import add_messages\n",
    "\n",
    "from typing import Annotated"
   ]
  },
  {
   "cell_type": "code",
   "execution_count": 3,
   "metadata": {},
   "outputs": [],
   "source": [
    "class State(TypedDict):\n",
    "    messages:Annotated[list,add_messages]\n",
    "    "
   ]
  },
  {
   "cell_type": "code",
   "execution_count": 4,
   "id": "9a447162",
   "metadata": {},
   "outputs": [],
   "source": [
    "import os\n",
    "from dotenv import load_dotenv\n",
    "load_dotenv()\n",
    "\n",
    "os.environ[\"GROQ_API_KEY\"] = os.getenv(\"GROQ_API_KEY\")\n"
   ]
  },
  {
   "cell_type": "code",
   "execution_count": 5,
   "id": "802abd6b",
   "metadata": {},
   "outputs": [
    {
     "data": {
      "text/plain": [
       "AIMessage(content=\"Please tell me more about what you're looking for! To give you the best movie suggestions, I need some information about your preferences. \\n\\nFor example, tell me:\\n\\n* **What genres do you enjoy?** (e.g., comedy, action, sci-fi, romance, horror, documentary)\\n* **Are you looking for something lighthearted or thought-provoking?**\\n* **Do you have any favorite directors or actors?**\\n* **Is there a specific mood you're in?** (e.g., happy, sad, excited)\\n* **Have you seen any movies recently that you liked or disliked?**\\n\\n\\nThe more information you give me, the better I can tailor my suggestions to your taste! 🎬🍿 \\n\\n\", additional_kwargs={}, response_metadata={'token_usage': {'completion_tokens': 162, 'prompt_tokens': 14, 'total_tokens': 176, 'completion_time': 0.294545455, 'prompt_time': 0.001262289, 'queue_time': 0.251733591, 'total_time': 0.295807744}, 'model_name': 'gemma2-9b-it', 'system_fingerprint': 'fp_10c08bf97d', 'service_tier': 'on_demand', 'finish_reason': 'stop', 'logprobs': None}, id='run--d4589314-c727-41eb-8fb6-8de21bc6a916-0', usage_metadata={'input_tokens': 14, 'output_tokens': 162, 'total_tokens': 176})"
      ]
     },
     "execution_count": 5,
     "metadata": {},
     "output_type": "execute_result"
    }
   ],
   "source": [
    "from langchain_groq import ChatGroq\n",
    "\n",
    "model = ChatGroq(model = \"gemma2-9b-it\")\n",
    "model.invoke(\"Hey suggest me some movies\")\n"
   ]
  },
  {
   "cell_type": "markdown",
   "id": "ad1623dc",
   "metadata": {},
   "source": [
    "### We will start with creating Nodes\n"
   ]
  },
  {
   "cell_type": "code",
   "execution_count": 6,
   "metadata": {},
   "outputs": [],
   "source": [
    "def superbot(state:State):\n",
    "    return {\"messages\":[model.invoke(state[\"messages\"])]}"
   ]
  },
  {
   "cell_type": "code",
   "execution_count": 7,
   "id": "9c6f6f30",
   "metadata": {},
   "outputs": [
    {
     "data": {
      "image/png": "[encoded data removed]",
      "text/plain": [
       "<IPython.core.display.Image object>"
      ]
     },
     "metadata": {},
     "output_type": "display_data"
    }
   ],
   "source": [
    "from IPython.display import Image,display\n",
    "from langgraph.graph import StateGraph,START,END\n",
    "\n",
    "graph = StateGraph(State)\n",
    "\n",
    "graph.add_node(\"SuperBot\",superbot)\n",
    "graph.add_edge(START,\"SuperBot\")\n",
    "graph.add_edge(\"SuperBot\",END)\n",
    "\n",
    "graph_builder = graph.compile()\n",
    "\n",
    "display(Image(graph_builder.get_graph().draw_mermaid_png()))"
   ]
  },
  {
   "cell_type": "code",
   "execution_count": 8,
   "id": "b23d558a",
   "metadata": {},
   "outputs": [
    {
     "data": {
      "text/plain": [
       "{'messages': [HumanMessage(content='Hi my name is Ishank', additional_kwargs={}, response_metadata={}, id='72aaaea2-529c-4977-a0f4-d9b6adacb3ae'),\n",
       "  AIMessage(content=\"Hi Ishank, it's nice to meet you! 👋\\n\\nWhat can I do for you today? 😊  \\n\\n\", additional_kwargs={}, response_metadata={'token_usage': {'completion_tokens': 28, 'prompt_tokens': 15, 'total_tokens': 43, 'completion_time': 0.050909091, 'prompt_time': 0.00124899, 'queue_time': 0.250565639, 'total_time': 0.052158081}, 'model_name': 'gemma2-9b-it', 'system_fingerprint': 'fp_10c08bf97d', 'service_tier': 'on_demand', 'finish_reason': 'stop', 'logprobs': None}, id='run--6e59516b-a4da-4739-a7a0-715c99275fcd-0', usage_metadata={'input_tokens': 15, 'output_tokens': 28, 'total_tokens': 43})]}"
      ]
     },
     "execution_count": 8,
     "metadata": {},
     "output_type": "execute_result"
    }
   ],
   "source": [
    "graph_builder.invoke({\"messages\": \"Hi my name is Ishank\"})"
   ]
  },
  {
   "cell_type": "code",
   "execution_count": null,
   "id": "02662071",
   "metadata": {},
   "outputs": [],
   "source": []
  },
  {
   "cell_type": "code",
   "execution_count": null,
   "id": "c55b4cbf",
   "metadata": {},
   "outputs": [],
   "source": []
  },
  {
   "cell_type": "code",
   "execution_count": 9,
   "id": "fa1b47e1",
   "metadata": {},
   "outputs": [],
   "source": [
    "from typing_extensions import TypedDict\n",
    "from langgraph.graph import StateGraph,START,END\n",
    "\n",
    "# Reducers\n",
    "from langgraph.graph.message import add_messages\n",
    "\n",
    "from typing import Annotated"
   ]
  },
  {
   "cell_type": "code",
   "execution_count": 10,
   "id": "0529fd93",
   "metadata": {},
   "outputs": [],
   "source": [
    "class State(TypedDict):\n",
    "    messages:Annotated[list,add_messages]\n",
    "    "
   ]
  },
  {
   "cell_type": "code",
   "execution_count": 11,
   "id": "e538bbe1",
   "metadata": {},
   "outputs": [],
   "source": [
    "import os\n",
    "from dotenv import load_dotenv\n",
    "load_dotenv()\n",
    "\n",
    "os.environ[\"GROQ_API_KEY\"] = os.getenv(\"GROQ_API_KEY\")\n"
   ]
  },
  {
   "cell_type": "code",
   "execution_count": 12,
   "id": "4af83ded",
   "metadata": {},
   "outputs": [
    {
     "data": {
      "text/plain": [
       "AIMessage(content='I can definitely suggest some movies! To give you the best recommendations, tell me:\\n\\n**1. What genres do you enjoy?** (e.g., comedy, action, sci-fi, horror, romance, documentary)\\n\\n**2. Are you looking for something lighthearted or thought-provoking?**\\n\\n**3. Any particular actors or directors you like?**\\n\\n**4. Have you seen any movies recently that you really enjoyed?**  \\n\\nThe more information you give me, the better I can tailor my suggestions to your taste! 🍿🎬  \\n\\n', additional_kwargs={}, response_metadata={'token_usage': {'completion_tokens': 121, 'prompt_tokens': 14, 'total_tokens': 135, 'completion_time': 0.22, 'prompt_time': 0.00124932, 'queue_time': 0.251480675, 'total_time': 0.22124932}, 'model_name': 'gemma2-9b-it', 'system_fingerprint': 'fp_10c08bf97d', 'service_tier': 'on_demand', 'finish_reason': 'stop', 'logprobs': None}, id='run--70ca9592-4ebf-45d2-930f-206fc54baf5c-0', usage_metadata={'input_tokens': 14, 'output_tokens': 121, 'total_tokens': 135})"
      ]
     },
     "execution_count": 12,
     "metadata": {},
     "output_type": "execute_result"
    }
   ],
   "source": [
    "from langchain_groq import ChatGroq\n",
    "\n",
    "model = ChatGroq(model = \"gemma2-9b-it\")\n",
    "model.invoke(\"Hey suggest me some movies\")\n"
   ]
  },
  {
   "cell_type": "markdown",
   "id": "09f2df98",
   "metadata": {},
   "source": [
    "### We will start with creating Nodes\n"
   ]
  },
  {
   "cell_type": "code",
   "execution_count": 13,
   "id": "83e6f2c4",
   "metadata": {},
   "outputs": [],
   "source": [
    "def superbot(state:State):\n",
    "    return {\"messages\":[model.invoke(state[\"messages\"])]}"
   ]
  },
  {
   "cell_type": "code",
   "execution_count": 14,
   "id": "9a3bb7cc",
   "metadata": {},
   "outputs": [
    {
     "data": {
      "image/png": "[encoded data removed]",
      "text/plain": [
       "<IPython.core.display.Image object>"
      ]
     },
     "metadata": {},
     "output_type": "display_data"
    }
   ],
   "source": [
    "from IPython.display import Image,display\n",
    "from langgraph.graph import StateGraph,START,END\n",
    "\n",
    "graph = StateGraph(State)\n",
    "\n",
    "graph.add_node(\"SuperBot\",superbot)\n",
    "graph.add_edge(START,\"SuperBot\")\n",
    "graph.add_edge(\"SuperBot\",END)\n",
    "\n",
    "graph_builder = graph.compile()\n",
    "\n",
    "display(Image(graph_builder.get_graph().draw_mermaid_png()))"
   ]
  },
  {
   "cell_type": "code",
   "execution_count": 15,
   "id": "846de9fd",
   "metadata": {},
   "outputs": [
    {
     "data": {
      "text/plain": [
       "{'messages': [HumanMessage(content='Hi my name is Ishank', additional_kwargs={}, response_metadata={}, id='15fc01d6-08ee-49fb-b603-6603adca9756'),\n",
       "  AIMessage(content=\"Hi Ishank, it's nice to meet you! What can I do for you today? 😊  \\n\", additional_kwargs={}, response_metadata={'token_usage': {'completion_tokens': 25, 'prompt_tokens': 15, 'total_tokens': 40, 'completion_time': 0.045454545, 'prompt_time': 0.001253219, 'queue_time': 0.251705841, 'total_time': 0.046707764}, 'model_name': 'gemma2-9b-it', 'system_fingerprint': 'fp_10c08bf97d', 'service_tier': 'on_demand', 'finish_reason': 'stop', 'logprobs': None}, id='run--82da3e38-a9f8-4b66-888a-05cc0102cac0-0', usage_metadata={'input_tokens': 15, 'output_tokens': 25, 'total_tokens': 40})]}"
      ]
     },
     "execution_count": 15,
     "metadata": {},
     "output_type": "execute_result"
    }
   ],
   "source": [
    "graph_builder.invoke({\"messages\": \"Hi my name is Ishank\"})"
   ]
  },
  {
   "cell_type": "code",
   "execution_count": 16,
   "id": "dc8fd911",
   "metadata": {},
   "outputs": [
    {
     "data": {
      "text/plain": [
       "{'messages': [HumanMessage(content=\"What's my name \", additional_kwargs={}, response_metadata={}, id='87e540f7-d441-410f-9e0b-7afd35e51566'),\n",
       "  AIMessage(content=\"As an AI, I have no memory of past conversations and do not know your name. If you'd like to tell me your name, I'd be happy to know! 😊\\n\", additional_kwargs={}, response_metadata={'token_usage': {'completion_tokens': 41, 'prompt_tokens': 15, 'total_tokens': 56, 'completion_time': 0.074545455, 'prompt_time': 0.001260229, 'queue_time': 0.250107676, 'total_time': 0.075805684}, 'model_name': 'gemma2-9b-it', 'system_fingerprint': 'fp_10c08bf97d', 'service_tier': 'on_demand', 'finish_reason': 'stop', 'logprobs': None}, id='run--f2bf4b60-d739-469f-94c4-7a6deff15eb4-0', usage_metadata={'input_tokens': 15, 'output_tokens': 41, 'total_tokens': 56})]}"
      ]
     },
     "execution_count": 16,
     "metadata": {},
     "output_type": "execute_result"
    }
   ],
   "source": [
    "graph_builder.invoke({\"messages\": \"What's my name \"})"
   ]
  },
  {
   "cell_type": "code",
   "execution_count": 17,
   "id": "741f36e2",
   "metadata": {},
   "outputs": [
    {
     "name": "stdout",
     "output_type": "stream",
     "text": [
      "{'SuperBot': {'messages': [AIMessage(content=\"Hello Ishank, it's nice to meet you! 👋 \\n\\nIs there anything I can help you with today?\\n\", additional_kwargs={}, response_metadata={'token_usage': {'completion_tokens': 28, 'prompt_tokens': 14, 'total_tokens': 42, 'completion_time': 0.050909091, 'prompt_time': 0.001263789, 'queue_time': 0.25263159199999996, 'total_time': 0.05217288}, 'model_name': 'gemma2-9b-it', 'system_fingerprint': 'fp_10c08bf97d', 'service_tier': 'on_demand', 'finish_reason': 'stop', 'logprobs': None}, id='run--e4e44ac1-4442-4d82-aa5f-974e8cb8c03f-0', usage_metadata={'input_tokens': 14, 'output_tokens': 28, 'total_tokens': 42})]}}\n"
     ]
    }
   ],
   "source": [
    "for event in graph_builder.stream({\"messages\":\"My name is Ishank\"},stream_mode=\"updates\"):\n",
    "    print(event)"
   ]
  },
  {
   "cell_type": "code",
   "execution_count": 18,
   "id": "d7dc1fb1",
   "metadata": {},
   "outputs": [
    {
     "data": {
      "image/png": "[encoded data removed]",
      "text/plain": [
       "<IPython.core.display.Image object>"
      ]
     },
     "metadata": {},
     "output_type": "display_data"
    },
    {
     "name": "stdout",
     "output_type": "stream",
     "text": [
      "\n",
      "--- Conversation ---\n",
      "Human: Hi my name is Ishank\n",
      "Human: Can you tell me what is my name?\n",
      "Ai: Your name is Ishank.  😊  \n",
      "\n",
      "Is there anything else I can help you with?\n",
      "\n",
      "\n",
      "--- Streaming ---\n",
      "{'SuperBot': {'messages': [{'role': 'assistant', 'content': 'Your name is Ishank.  😊 \\n\\nI remember that you told me!  \\n'}]}}\n"
     ]
    }
   ],
   "source": [
    "from typing_extensions import TypedDict\n",
    "from langgraph.graph import StateGraph, START, END\n",
    "from langgraph.graph.message import add_messages\n",
    "from typing import Annotated\n",
    "\n",
    "# Load environment variables\n",
    "import os\n",
    "from dotenv import load_dotenv\n",
    "load_dotenv()\n",
    "\n",
    "os.environ[\"GROQ_API_KEY\"] = os.getenv(\"GROQ_API_KEY\")\n",
    "\n",
    "# Load model\n",
    "from langchain_groq import ChatGroq\n",
    "model = ChatGroq(model=\"gemma2-9b-it\")  # You can use \"gemma2-9b-it\" if available\n",
    "\n",
    "# Define state type with reducer\n",
    "class State(TypedDict):\n",
    "    messages: Annotated[list, add_messages]\n",
    "\n",
    "# Define chatbot node\n",
    "def superbot(state: State):\n",
    "    response = model.invoke(state[\"messages\"])  # Use full history\n",
    "    return {\n",
    "        \"messages\": [{\"role\": \"assistant\", \"content\": response.content}]\n",
    "    }\n",
    "\n",
    "# Build graph\n",
    "graph = StateGraph(State)\n",
    "graph.add_node(\"SuperBot\", superbot)\n",
    "graph.add_edge(START, \"SuperBot\")\n",
    "graph.add_edge(\"SuperBot\", END)\n",
    "\n",
    "graph_builder = graph.compile()\n",
    "\n",
    "# Optionally visualize the graph (if running in notebook)\n",
    "try:\n",
    "    from IPython.display import Image, display\n",
    "    display(Image(graph_builder.get_graph().draw_mermaid_png()))\n",
    "except:\n",
    "    pass\n",
    "\n",
    "# ✅ Run conversation\n",
    "initial_input = {\n",
    "    \"messages\": [\n",
    "        {\"role\": \"user\", \"content\": \"Hi my name is Ishank\"},\n",
    "        {\"role\": \"user\", \"content\": \"Can you tell me what is my name?\"}\n",
    "    ]\n",
    "}\n",
    "\n",
    "response = graph_builder.invoke(initial_input)\n",
    "\n",
    "# Print full message history\n",
    "print(\"\\n--- Conversation ---\")\n",
    "for msg in response[\"messages\"]:\n",
    "    print(f\"{msg.type.capitalize()}: {msg.content}\")\n",
    "\n",
    "\n",
    "# ✅ Optional: Stream version\n",
    "print(\"\\n--- Streaming ---\")\n",
    "for event in graph_builder.stream(initial_input, stream_mode=\"updates\"):\n",
    "    print(event)\n"
   ]
  },
  {
   "cell_type": "code",
   "execution_count": 19,
   "id": "2fc228c4",
   "metadata": {},
   "outputs": [
    {
     "ename": "AttributeError",
     "evalue": "'dict' object has no attribute 'type'",
     "output_type": "error",
     "traceback": [
      "\u001b[1;31m---------------------------------------------------------------------------\u001b[0m",
      "\u001b[1;31mAttributeError\u001b[0m                            Traceback (most recent call last)",
      "Cell \u001b[1;32mIn[19], line 16\u001b[0m\n\u001b[0;32m     14\u001b[0m \u001b[38;5;66;03m# Print\u001b[39;00m\n\u001b[0;32m     15\u001b[0m \u001b[38;5;28;01mfor\u001b[39;00m msg \u001b[38;5;129;01min\u001b[39;00m history:\n\u001b[1;32m---> 16\u001b[0m     \u001b[38;5;28mprint\u001b[39m(\u001b[38;5;124mf\u001b[39m\u001b[38;5;124m\"\u001b[39m\u001b[38;5;132;01m{\u001b[39;00mmsg\u001b[38;5;241m.\u001b[39mtype\u001b[38;5;241m.\u001b[39mcapitalize()\u001b[38;5;132;01m}\u001b[39;00m\u001b[38;5;124m: \u001b[39m\u001b[38;5;132;01m{\u001b[39;00mmsg\u001b[38;5;241m.\u001b[39mcontent\u001b[38;5;132;01m}\u001b[39;00m\u001b[38;5;124m\"\u001b[39m)\n",
      "\u001b[1;31mAttributeError\u001b[0m: 'dict' object has no attribute 'type'"
     ]
    }
   ],
   "source": [
    "history = [\n",
    "    {\"role\": \"user\", \"content\": \"Hi, my name is Ishank\"}\n",
    "]\n",
    "\n",
    "# First turn\n",
    "response = graph_builder.invoke({\"messages\": history})\n",
    "history += response[\"messages\"]\n",
    "\n",
    "# Next turn\n",
    "history.append({\"role\": \"user\", \"content\": \"What is my name?\"})\n",
    "response = graph_builder.invoke({\"messages\": history})\n",
    "history += response[\"messages\"]\n",
    "\n",
    "# Print\n",
    "for msg in history:\n",
    "    print(f\"{msg.type.capitalize()}: {msg.content}\")\n"
   ]
  },
  {
   "cell_type": "code",
   "execution_count": null,
   "id": "2aaf27b7",
   "metadata": {},
   "outputs": [
    {
     "data": {
      "text/plain": [
       "{'messages': [HumanMessage(content='Can you tell me what is my name?', additional_kwargs={}, response_metadata={}, id='7f90651e-975d-48e1-a67b-b69937db9089'),\n",
       "  AIMessage(content=\"As an AI, I have no memory of past conversations and do not know your name. If you'd like to tell me your name, I'd be happy to know!\\n\", additional_kwargs={}, response_metadata={}, id='b05454b1-6403-4ce5-bd71-df019d4051b0')]}"
      ]
     },
     "execution_count": 129,
     "metadata": {},
     "output_type": "execute_result"
    }
   ],
   "source": [
    "# ✅ Run conversation\n",
    "input = {\n",
    "    \"messages\": [\n",
    "        {\"role\": \"user\", \"content\": \"Can you tell me what is my name?\"}\n",
    "    ]\n",
    "}\n",
    "\n",
    "response = graph_builder.invoke(input)\n",
    "response"
   ]
  },
  {
   "cell_type": "code",
   "execution_count": null,
   "id": "edcba9f5",
   "metadata": {},
   "outputs": [],
   "source": []
  }
 ],
 "metadata": {
  "kernelspec": {
   "display_name": "Python 3",
   "language": "python",
   "name": "python3"
  },
  "language_info": {
   "codemirror_mode": {
    "name": "ipython",
    "version": 3
   },
   "file_extension": ".py",
   "mimetype": "text/x-python",
   "name": "python",
   "nbconvert_exporter": "python",
   "pygments_lexer": "ipython3",
   "version": "3.10.0"
  }
 },
 "nbformat": 4,
 "nbformat_minor": 5
}
