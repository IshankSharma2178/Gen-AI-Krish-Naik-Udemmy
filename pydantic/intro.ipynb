{
 "cells": [
  {
   "cell_type": "code",
   "execution_count": null,
   "id": "e84e0279",
   "metadata": {},
   "outputs": [],
   "source": [
    "from pydantic import BaseModel"
   ]
  },
  {
   "cell_type": "code",
   "execution_count": null,
   "id": "f044fff9",
   "metadata": {},
   "outputs": [],
   "source": [
    "class Person(BaseModel):\n",
    "    name:str\n",
    "    age:int\n",
    "    city:str\n",
    "\n",
    "person = Person(name=\"ishank\",age=10,city=\"mathura\")\n",
    "print(type(person))\n",
    "# person1 = Person(name=\"ishank\",age=10,city=10)        # gives validation error which dataclass dont give"
   ]
  },
  {
   "cell_type": "code",
   "execution_count": null,
   "id": "c201a1a4",
   "metadata": {},
   "outputs": [],
   "source": [
    "from typing import Optional,List\n",
    "\n",
    "class Employee(BaseModel):\n",
    "    name:str\n",
    "    age:int\n",
    "    salary:Optional[float] = 2.2       # Optional with default value\n",
    "    is_active:Optional[bool] = True \n",
    "    students : List[str]                # can also give dictionary or tuple"
   ]
  },
  {
   "cell_type": "code",
   "execution_count": null,
   "id": "12065c69",
   "metadata": {},
   "outputs": [],
   "source": [
    "emp1 = Employee(name=\"Ishank\",age=10,students=[\"he\"])\n",
    "print(emp1)"
   ]
  },
  {
   "cell_type": "code",
   "execution_count": null,
   "id": "1cfc1c1e",
   "metadata": {},
   "outputs": [],
   "source": [
    "try:\n",
    "    invalid_val = Employee(name=1234,age=10,students=[\"ishank\"])\n",
    "except ValueError as e:\n",
    "    print(e)"
   ]
  },
  {
   "cell_type": "markdown",
   "id": "456d7aba",
   "metadata": {},
   "source": [
    "# Models with nested models"
   ]
  },
  {
   "cell_type": "code",
   "execution_count": null,
   "id": "3439b347",
   "metadata": {},
   "outputs": [],
   "source": [
    "class Address(BaseModel):\n",
    "    street:str\n",
    "    zip:int\n",
    "\n",
    "class Customer(BaseModel):\n",
    "    name:str\n",
    "    address : Address           # Referring to Address class\n",
    "\n",
    "customer = Customer(name=\"Ishank\",address={\"street\":\"123-Ab\",\"zip\":\"123\"})          # zip is automatically type cast to int\n",
    "\n",
    "customer"
   ]
  },
  {
   "cell_type": "markdown",
   "id": "07bfd76a",
   "metadata": {},
   "source": [
    "#  Pydantic field customization and constraints\n",
    "\n",
    "The Field function in Pydantic enhances model fields beyond basic type hints by allowing you to specify\n",
    "validation rules, default values, aliases, and more. Here's a comprehensive tutorial with examples."
   ]
  },
  {
   "cell_type": "code",
   "execution_count": 42,
   "id": "017baeb9",
   "metadata": {},
   "outputs": [
    {
     "name": "stdout",
     "output_type": "stream",
     "text": [
      "name='Ishank' age=18 price=10.1 quantity=10 category=<Category.electrons: 'electronics'>\n",
      "{'$defs': {'Category': {'enum': ['electronics', 'clothing', 'books', 'grocery'], 'title': 'Category', 'type': 'string'}}, 'properties': {'name': {'maxLength': 50, 'minLength': 2, 'title': 'Name', 'type': 'string'}, 'age': {'default': 18, 'description': 'age must be greater than 18', 'title': 'Age', 'type': 'integer'}, 'price': {'exclusiveMinimum': 0, 'maximum': 1000, 'title': 'Price', 'type': 'number'}, 'quantity': {'minimum': 0, 'title': 'Quantity', 'type': 'integer'}, 'category': {'$ref': '#/$defs/Category'}}, 'required': ['name', 'price', 'quantity', 'category'], 'title': 'Item', 'type': 'object'}\n"
     ]
    }
   ],
   "source": [
    "from pydantic import BaseModel,Field\n",
    "from enum import Enum\n",
    "\n",
    "class Category(str,Enum):\n",
    "    electrons = \"electronics\"\n",
    "    clothing = \"clothing\"\n",
    "    books = \"books\"\n",
    "    grocery = \"grocery\"\n",
    "\n",
    "class Item(BaseModel):\n",
    "    name : str=Field(min_length=2,max_length=50)\n",
    "    age : int = Field(default=18, description=\"age must be greater than 18\")\n",
    "    price : float = Field(gt=0,le=1000)\n",
    "    quantity : int = Field(ge=0)\n",
    "    category : Category\n",
    "\n",
    "per1 = Item(name=\"Ishank\",price=10.1,quantity=10,category=Category.electrons)\n",
    "print(per1)\n",
    "print(per1.model_json_schema())"
   ]
  },
  {
   "cell_type": "code",
   "execution_count": null,
   "id": "79e62f1f",
   "metadata": {},
   "outputs": [],
   "source": []
  },
  {
   "cell_type": "code",
   "execution_count": null,
   "id": "dad6b03f",
   "metadata": {},
   "outputs": [],
   "source": []
  },
  {
   "cell_type": "code",
   "execution_count": null,
   "id": "51580e40",
   "metadata": {},
   "outputs": [],
   "source": []
  }
 ],
 "metadata": {
  "kernelspec": {
   "display_name": "Python 3",
   "language": "python",
   "name": "python3"
  },
  "language_info": {
   "codemirror_mode": {
    "name": "ipython",
    "version": 3
   },
   "file_extension": ".py",
   "mimetype": "text/x-python",
   "name": "python",
   "nbconvert_exporter": "python",
   "pygments_lexer": "ipython3",
   "version": "3.12.5"
  }
 },
 "nbformat": 4,
 "nbformat_minor": 5
}
